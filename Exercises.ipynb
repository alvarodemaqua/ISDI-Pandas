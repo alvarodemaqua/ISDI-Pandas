{
 "cells": [
  {
   "cell_type": "code",
   "execution_count": 1,
   "id": "initial_id",
   "metadata": {
    "collapsed": true,
    "ExecuteTime": {
     "end_time": "2024-01-05T11:10:02.570994700Z",
     "start_time": "2024-01-05T11:10:01.796977300Z"
    }
   },
   "outputs": [],
   "source": [
    "import pandas as pd"
   ]
  },
  {
   "cell_type": "code",
   "outputs": [],
   "source": [
    "# Ejercicio 1: Importar Pandas y leer el dataset del Titanic.\n"
   ],
   "metadata": {
    "collapsed": false,
    "ExecuteTime": {
     "end_time": "2024-01-05T11:10:02.618263800Z",
     "start_time": "2024-01-05T11:10:02.521129900Z"
    }
   },
   "id": "60849201cb863aa5",
   "execution_count": 2
  },
  {
   "cell_type": "code",
   "outputs": [
    {
     "name": "stdout",
     "output_type": "stream",
     "text": [
      "   PassengerId  Pclass                                          Name     Sex  \\\n",
      "0          892       3                              Kelly, Mr. James    male   \n",
      "1          893       3              Wilkes, Mrs. James (Ellen Needs)  female   \n",
      "2          894       2                     Myles, Mr. Thomas Francis    male   \n",
      "3          895       3                              Wirz, Mr. Albert    male   \n",
      "4          896       3  Hirvonen, Mrs. Alexander (Helga E Lindqvist)  female   \n",
      "5          897       3                    Svensson, Mr. Johan Cervin    male   \n",
      "6          898       3                          Connolly, Miss. Kate  female   \n",
      "7          899       2                  Caldwell, Mr. Albert Francis    male   \n",
      "8          900       3     Abrahim, Mrs. Joseph (Sophie Halaut Easu)  female   \n",
      "9          901       3                       Davies, Mr. John Samuel    male   \n",
      "\n",
      "    Age  SibSp  Parch     Ticket     Fare Cabin Embarked  Survived  \n",
      "0  34.5      0      0     330911   7.8292   NaN        Q       NaN  \n",
      "1  47.0      1      0     363272   7.0000   NaN        S       NaN  \n",
      "2  62.0      0      0     240276   9.6875   NaN        Q       NaN  \n",
      "3  27.0      0      0     315154   8.6625   NaN        S       NaN  \n",
      "4  22.0      1      1    3101298  12.2875   NaN        S       NaN  \n",
      "5  14.0      0      0       7538   9.2250   NaN        S       NaN  \n",
      "6  30.0      0      0     330972   7.6292   NaN        Q       NaN  \n",
      "7  26.0      1      1     248738  29.0000   NaN        S       NaN  \n",
      "8  18.0      0      0       2657   7.2292   NaN        C       NaN  \n",
      "9  21.0      2      0  A/4 48871  24.1500   NaN        S       NaN  \n"
     ]
    }
   ],
   "source": [
    "# Ejercicio 2: Mostrar las primeras 10 filas del dataset."
   ],
   "metadata": {
    "collapsed": false,
    "ExecuteTime": {
     "end_time": "2024-01-05T11:10:02.621264100Z",
     "start_time": "2024-01-05T11:10:02.545115900Z"
    }
   },
   "id": "52a782bdab701864",
   "execution_count": 3
  },
  {
   "cell_type": "code",
   "outputs": [
    {
     "name": "stdout",
     "output_type": "stream",
     "text": [
      "object     5\n",
      "int64      4\n",
      "float64    3\n",
      "Name: count, dtype: int64\n"
     ]
    }
   ],
   "source": [
    "# Ejercicio 3: Identificar y contar los tipos de datos de cada columna."
   ],
   "metadata": {
    "collapsed": false,
    "ExecuteTime": {
     "end_time": "2024-01-05T11:10:02.677900Z",
     "start_time": "2024-01-05T11:10:02.563295700Z"
    }
   },
   "id": "4c548cbefdabca74",
   "execution_count": 4
  },
  {
   "cell_type": "code",
   "outputs": [
    {
     "name": "stdout",
     "output_type": "stream",
     "text": [
      "PassengerId       0\n",
      "Pclass            0\n",
      "Name              0\n",
      "Sex               0\n",
      "Age             263\n",
      "SibSp             0\n",
      "Parch             0\n",
      "Ticket            0\n",
      "Fare              1\n",
      "Cabin          1014\n",
      "Embarked          2\n",
      "Survived        418\n",
      "dtype: int64\n"
     ]
    }
   ],
   "source": [
    "# Ejercicio 4: Encontrar y contar valores faltantes en el dataset."
   ],
   "metadata": {
    "collapsed": false,
    "ExecuteTime": {
     "end_time": "2024-01-05T11:10:02.682905800Z",
     "start_time": "2024-01-05T11:10:02.573505600Z"
    }
   },
   "id": "ff668df73df6e59f",
   "execution_count": 5
  },
  {
   "cell_type": "code",
   "outputs": [
    {
     "name": "stdout",
     "output_type": "stream",
     "text": [
      "Index(['PassengerId', 'Pclass', 'Name', 'Sex', 'Age', 'SibSp', 'Parch',\n",
      "       'Ticket', 'Fare', 'Cabin', 'Embarked', 'Survived'],\n",
      "      dtype='object')\n"
     ]
    }
   ],
   "source": [
    "# Ejercicio 5: Listar nombres de columnas y cambiar cualquier nombre inapropiado."
   ],
   "metadata": {
    "collapsed": false,
    "ExecuteTime": {
     "end_time": "2024-01-05T11:10:02.685445400Z",
     "start_time": "2024-01-05T11:10:02.585644Z"
    }
   },
   "id": "45a5ec33f600dbe3",
   "execution_count": 6
  },
  {
   "cell_type": "code",
   "outputs": [],
   "source": [
    "# Supongamos que queremos cambiar 'SibSp' por 'Siblings_Spouses'"
   ],
   "metadata": {
    "collapsed": false,
    "ExecuteTime": {
     "end_time": "2024-01-05T11:10:02.707966Z",
     "start_time": "2024-01-05T11:10:02.592016700Z"
    }
   },
   "id": "705e8ffb8d5fec1c",
   "execution_count": 7
  },
  {
   "cell_type": "code",
   "outputs": [
    {
     "data": {
      "text/plain": "     PassengerId  Pclass                                          Name  \\\n0            892       3                              Kelly, Mr. James   \n1            893       3              Wilkes, Mrs. James (Ellen Needs)   \n2            894       2                     Myles, Mr. Thomas Francis   \n3            895       3                              Wirz, Mr. Albert   \n4            896       3  Hirvonen, Mrs. Alexander (Helga E Lindqvist)   \n..           ...     ...                                           ...   \n886          887       2                         Montvila, Rev. Juozas   \n887          888       1                  Graham, Miss. Margaret Edith   \n888          889       3      Johnston, Miss. Catherine Helen \"Carrie\"   \n889          890       1                         Behr, Mr. Karl Howell   \n890          891       3                           Dooley, Mr. Patrick   \n\n        Sex   Age  Siblings_Spouses  Parch      Ticket     Fare Cabin  \\\n0      male  34.5                 0      0      330911   7.8292   NaN   \n1    female  47.0                 1      0      363272   7.0000   NaN   \n2      male  62.0                 0      0      240276   9.6875   NaN   \n3      male  27.0                 0      0      315154   8.6625   NaN   \n4    female  22.0                 1      1     3101298  12.2875   NaN   \n..      ...   ...               ...    ...         ...      ...   ...   \n886    male  27.0                 0      0      211536  13.0000   NaN   \n887  female  19.0                 0      0      112053  30.0000   B42   \n888  female   NaN                 1      2  W./C. 6607  23.4500   NaN   \n889    male  26.0                 0      0      111369  30.0000  C148   \n890    male  32.0                 0      0      370376   7.7500   NaN   \n\n    Embarked  Survived  \n0          Q       NaN  \n1          S       NaN  \n2          Q       NaN  \n3          S       NaN  \n4          S       NaN  \n..       ...       ...  \n886        S       0.0  \n887        S       1.0  \n888        S       0.0  \n889        C       1.0  \n890        Q       0.0  \n\n[1309 rows x 12 columns]",
      "text/html": "<div>\n<style scoped>\n    .dataframe tbody tr th:only-of-type {\n        vertical-align: middle;\n    }\n\n    .dataframe tbody tr th {\n        vertical-align: top;\n    }\n\n    .dataframe thead th {\n        text-align: right;\n    }\n</style>\n<table border=\"1\" class=\"dataframe\">\n  <thead>\n    <tr style=\"text-align: right;\">\n      <th></th>\n      <th>PassengerId</th>\n      <th>Pclass</th>\n      <th>Name</th>\n      <th>Sex</th>\n      <th>Age</th>\n      <th>Siblings_Spouses</th>\n      <th>Parch</th>\n      <th>Ticket</th>\n      <th>Fare</th>\n      <th>Cabin</th>\n      <th>Embarked</th>\n      <th>Survived</th>\n    </tr>\n  </thead>\n  <tbody>\n    <tr>\n      <th>0</th>\n      <td>892</td>\n      <td>3</td>\n      <td>Kelly, Mr. James</td>\n      <td>male</td>\n      <td>34.5</td>\n      <td>0</td>\n      <td>0</td>\n      <td>330911</td>\n      <td>7.8292</td>\n      <td>NaN</td>\n      <td>Q</td>\n      <td>NaN</td>\n    </tr>\n    <tr>\n      <th>1</th>\n      <td>893</td>\n      <td>3</td>\n      <td>Wilkes, Mrs. James (Ellen Needs)</td>\n      <td>female</td>\n      <td>47.0</td>\n      <td>1</td>\n      <td>0</td>\n      <td>363272</td>\n      <td>7.0000</td>\n      <td>NaN</td>\n      <td>S</td>\n      <td>NaN</td>\n    </tr>\n    <tr>\n      <th>2</th>\n      <td>894</td>\n      <td>2</td>\n      <td>Myles, Mr. Thomas Francis</td>\n      <td>male</td>\n      <td>62.0</td>\n      <td>0</td>\n      <td>0</td>\n      <td>240276</td>\n      <td>9.6875</td>\n      <td>NaN</td>\n      <td>Q</td>\n      <td>NaN</td>\n    </tr>\n    <tr>\n      <th>3</th>\n      <td>895</td>\n      <td>3</td>\n      <td>Wirz, Mr. Albert</td>\n      <td>male</td>\n      <td>27.0</td>\n      <td>0</td>\n      <td>0</td>\n      <td>315154</td>\n      <td>8.6625</td>\n      <td>NaN</td>\n      <td>S</td>\n      <td>NaN</td>\n    </tr>\n    <tr>\n      <th>4</th>\n      <td>896</td>\n      <td>3</td>\n      <td>Hirvonen, Mrs. Alexander (Helga E Lindqvist)</td>\n      <td>female</td>\n      <td>22.0</td>\n      <td>1</td>\n      <td>1</td>\n      <td>3101298</td>\n      <td>12.2875</td>\n      <td>NaN</td>\n      <td>S</td>\n      <td>NaN</td>\n    </tr>\n    <tr>\n      <th>...</th>\n      <td>...</td>\n      <td>...</td>\n      <td>...</td>\n      <td>...</td>\n      <td>...</td>\n      <td>...</td>\n      <td>...</td>\n      <td>...</td>\n      <td>...</td>\n      <td>...</td>\n      <td>...</td>\n      <td>...</td>\n    </tr>\n    <tr>\n      <th>886</th>\n      <td>887</td>\n      <td>2</td>\n      <td>Montvila, Rev. Juozas</td>\n      <td>male</td>\n      <td>27.0</td>\n      <td>0</td>\n      <td>0</td>\n      <td>211536</td>\n      <td>13.0000</td>\n      <td>NaN</td>\n      <td>S</td>\n      <td>0.0</td>\n    </tr>\n    <tr>\n      <th>887</th>\n      <td>888</td>\n      <td>1</td>\n      <td>Graham, Miss. Margaret Edith</td>\n      <td>female</td>\n      <td>19.0</td>\n      <td>0</td>\n      <td>0</td>\n      <td>112053</td>\n      <td>30.0000</td>\n      <td>B42</td>\n      <td>S</td>\n      <td>1.0</td>\n    </tr>\n    <tr>\n      <th>888</th>\n      <td>889</td>\n      <td>3</td>\n      <td>Johnston, Miss. Catherine Helen \"Carrie\"</td>\n      <td>female</td>\n      <td>NaN</td>\n      <td>1</td>\n      <td>2</td>\n      <td>W./C. 6607</td>\n      <td>23.4500</td>\n      <td>NaN</td>\n      <td>S</td>\n      <td>0.0</td>\n    </tr>\n    <tr>\n      <th>889</th>\n      <td>890</td>\n      <td>1</td>\n      <td>Behr, Mr. Karl Howell</td>\n      <td>male</td>\n      <td>26.0</td>\n      <td>0</td>\n      <td>0</td>\n      <td>111369</td>\n      <td>30.0000</td>\n      <td>C148</td>\n      <td>C</td>\n      <td>1.0</td>\n    </tr>\n    <tr>\n      <th>890</th>\n      <td>891</td>\n      <td>3</td>\n      <td>Dooley, Mr. Patrick</td>\n      <td>male</td>\n      <td>32.0</td>\n      <td>0</td>\n      <td>0</td>\n      <td>370376</td>\n      <td>7.7500</td>\n      <td>NaN</td>\n      <td>Q</td>\n      <td>0.0</td>\n    </tr>\n  </tbody>\n</table>\n<p>1309 rows × 12 columns</p>\n</div>"
     },
     "execution_count": 8,
     "metadata": {},
     "output_type": "execute_result"
    }
   ],
   "source": [],
   "metadata": {
    "collapsed": false,
    "ExecuteTime": {
     "end_time": "2024-01-05T11:10:02.873528500Z",
     "start_time": "2024-01-05T11:10:02.614255700Z"
    }
   },
   "id": "3838538bd9c95ca3",
   "execution_count": 8
  },
  {
   "cell_type": "code",
   "outputs": [],
   "source": [
    "# Ejercicio 6: Seleccionar solo las columnas 'Edad', 'Sexo', y 'Sobreviviente'."
   ],
   "metadata": {
    "collapsed": false,
    "ExecuteTime": {
     "end_time": "2024-01-05T11:10:02.875539300Z",
     "start_time": "2024-01-05T11:10:02.629212600Z"
    }
   },
   "id": "7eac70c6aa7a0de6",
   "execution_count": 9
  },
  {
   "cell_type": "code",
   "outputs": [
    {
     "data": {
      "text/plain": "      Age     Sex  Survived\n0    22.0    male       0.0\n1    38.0  female       1.0\n2    26.0  female       1.0\n3    35.0  female       1.0\n4    35.0    male       0.0\n..    ...     ...       ...\n885  39.0  female       0.0\n886  27.0    male       0.0\n887  19.0  female       1.0\n889  26.0    male       1.0\n890  32.0    male       0.0\n\n[714 rows x 3 columns]",
      "text/html": "<div>\n<style scoped>\n    .dataframe tbody tr th:only-of-type {\n        vertical-align: middle;\n    }\n\n    .dataframe tbody tr th {\n        vertical-align: top;\n    }\n\n    .dataframe thead th {\n        text-align: right;\n    }\n</style>\n<table border=\"1\" class=\"dataframe\">\n  <thead>\n    <tr style=\"text-align: right;\">\n      <th></th>\n      <th>Age</th>\n      <th>Sex</th>\n      <th>Survived</th>\n    </tr>\n  </thead>\n  <tbody>\n    <tr>\n      <th>0</th>\n      <td>22.0</td>\n      <td>male</td>\n      <td>0.0</td>\n    </tr>\n    <tr>\n      <th>1</th>\n      <td>38.0</td>\n      <td>female</td>\n      <td>1.0</td>\n    </tr>\n    <tr>\n      <th>2</th>\n      <td>26.0</td>\n      <td>female</td>\n      <td>1.0</td>\n    </tr>\n    <tr>\n      <th>3</th>\n      <td>35.0</td>\n      <td>female</td>\n      <td>1.0</td>\n    </tr>\n    <tr>\n      <th>4</th>\n      <td>35.0</td>\n      <td>male</td>\n      <td>0.0</td>\n    </tr>\n    <tr>\n      <th>...</th>\n      <td>...</td>\n      <td>...</td>\n      <td>...</td>\n    </tr>\n    <tr>\n      <th>885</th>\n      <td>39.0</td>\n      <td>female</td>\n      <td>0.0</td>\n    </tr>\n    <tr>\n      <th>886</th>\n      <td>27.0</td>\n      <td>male</td>\n      <td>0.0</td>\n    </tr>\n    <tr>\n      <th>887</th>\n      <td>19.0</td>\n      <td>female</td>\n      <td>1.0</td>\n    </tr>\n    <tr>\n      <th>889</th>\n      <td>26.0</td>\n      <td>male</td>\n      <td>1.0</td>\n    </tr>\n    <tr>\n      <th>890</th>\n      <td>32.0</td>\n      <td>male</td>\n      <td>0.0</td>\n    </tr>\n  </tbody>\n</table>\n<p>714 rows × 3 columns</p>\n</div>"
     },
     "execution_count": 10,
     "metadata": {},
     "output_type": "execute_result"
    }
   ],
   "source": [],
   "metadata": {
    "collapsed": false,
    "ExecuteTime": {
     "end_time": "2024-01-05T11:10:02.898142600Z",
     "start_time": "2024-01-05T11:10:02.637875600Z"
    }
   },
   "id": "5d91f6769268654f",
   "execution_count": 10
  },
  {
   "cell_type": "code",
   "outputs": [
    {
     "data": {
      "text/plain": "Survived\n0.0    549\n1.0    342\nName: count, dtype: int64"
     },
     "execution_count": 11,
     "metadata": {},
     "output_type": "execute_result"
    }
   ],
   "source": [
    "# Ejercicio 7: Contar el número de sobrevivientes y no sobrevivientes."
   ],
   "metadata": {
    "collapsed": false,
    "ExecuteTime": {
     "end_time": "2024-01-05T11:10:02.900146Z",
     "start_time": "2024-01-05T11:10:02.653911400Z"
    }
   },
   "id": "baefcc301f40ebf8",
   "execution_count": 11
  },
  {
   "cell_type": "code",
   "outputs": [
    {
     "data": {
      "text/plain": "29.881137667304014"
     },
     "execution_count": 12,
     "metadata": {},
     "output_type": "execute_result"
    }
   ],
   "source": [
    "# Ejercicio 8: Calcular la edad promedio de los pasajeros."
   ],
   "metadata": {
    "collapsed": false,
    "ExecuteTime": {
     "end_time": "2024-01-05T11:10:02.915307700Z",
     "start_time": "2024-01-05T11:10:02.665108500Z"
    }
   },
   "id": "7501c467644586c0",
   "execution_count": 12
  },
  {
   "cell_type": "code",
   "outputs": [
    {
     "data": {
      "text/plain": "     PassengerId  Pclass                                          Name  \\\n0            892       3                              Kelly, Mr. James   \n1            893       3              Wilkes, Mrs. James (Ellen Needs)   \n2            894       2                     Myles, Mr. Thomas Francis   \n3            895       3                              Wirz, Mr. Albert   \n4            896       3  Hirvonen, Mrs. Alexander (Helga E Lindqvist)   \n..           ...     ...                                           ...   \n886          887       2                         Montvila, Rev. Juozas   \n887          888       1                  Graham, Miss. Margaret Edith   \n888          889       3      Johnston, Miss. Catherine Helen \"Carrie\"   \n889          890       1                         Behr, Mr. Karl Howell   \n890          891       3                           Dooley, Mr. Patrick   \n\n        Sex   Age  Siblings_Spouses  Parch      Ticket     Fare Cabin  \\\n0      male  34.5                 0      0      330911   7.8292   NaN   \n1    female  47.0                 1      0      363272   7.0000   NaN   \n2      male  62.0                 0      0      240276   9.6875   NaN   \n3      male  27.0                 0      0      315154   8.6625   NaN   \n4    female  22.0                 1      1     3101298  12.2875   NaN   \n..      ...   ...               ...    ...         ...      ...   ...   \n886    male  27.0                 0      0      211536  13.0000   NaN   \n887  female  19.0                 0      0      112053  30.0000   B42   \n888  female   NaN                 1      2  W./C. 6607  23.4500   NaN   \n889    male  26.0                 0      0      111369  30.0000  C148   \n890    male  32.0                 0      0      370376   7.7500   NaN   \n\n    Embarked  Survived  \n0          Q       NaN  \n1          S       NaN  \n2          Q       NaN  \n3          S       NaN  \n4          S       NaN  \n..       ...       ...  \n886        S       0.0  \n887        S       1.0  \n888        S       0.0  \n889        C       1.0  \n890        Q       0.0  \n\n[1309 rows x 12 columns]",
      "text/html": "<div>\n<style scoped>\n    .dataframe tbody tr th:only-of-type {\n        vertical-align: middle;\n    }\n\n    .dataframe tbody tr th {\n        vertical-align: top;\n    }\n\n    .dataframe thead th {\n        text-align: right;\n    }\n</style>\n<table border=\"1\" class=\"dataframe\">\n  <thead>\n    <tr style=\"text-align: right;\">\n      <th></th>\n      <th>PassengerId</th>\n      <th>Pclass</th>\n      <th>Name</th>\n      <th>Sex</th>\n      <th>Age</th>\n      <th>Siblings_Spouses</th>\n      <th>Parch</th>\n      <th>Ticket</th>\n      <th>Fare</th>\n      <th>Cabin</th>\n      <th>Embarked</th>\n      <th>Survived</th>\n    </tr>\n  </thead>\n  <tbody>\n    <tr>\n      <th>0</th>\n      <td>892</td>\n      <td>3</td>\n      <td>Kelly, Mr. James</td>\n      <td>male</td>\n      <td>34.5</td>\n      <td>0</td>\n      <td>0</td>\n      <td>330911</td>\n      <td>7.8292</td>\n      <td>NaN</td>\n      <td>Q</td>\n      <td>NaN</td>\n    </tr>\n    <tr>\n      <th>1</th>\n      <td>893</td>\n      <td>3</td>\n      <td>Wilkes, Mrs. James (Ellen Needs)</td>\n      <td>female</td>\n      <td>47.0</td>\n      <td>1</td>\n      <td>0</td>\n      <td>363272</td>\n      <td>7.0000</td>\n      <td>NaN</td>\n      <td>S</td>\n      <td>NaN</td>\n    </tr>\n    <tr>\n      <th>2</th>\n      <td>894</td>\n      <td>2</td>\n      <td>Myles, Mr. Thomas Francis</td>\n      <td>male</td>\n      <td>62.0</td>\n      <td>0</td>\n      <td>0</td>\n      <td>240276</td>\n      <td>9.6875</td>\n      <td>NaN</td>\n      <td>Q</td>\n      <td>NaN</td>\n    </tr>\n    <tr>\n      <th>3</th>\n      <td>895</td>\n      <td>3</td>\n      <td>Wirz, Mr. Albert</td>\n      <td>male</td>\n      <td>27.0</td>\n      <td>0</td>\n      <td>0</td>\n      <td>315154</td>\n      <td>8.6625</td>\n      <td>NaN</td>\n      <td>S</td>\n      <td>NaN</td>\n    </tr>\n    <tr>\n      <th>4</th>\n      <td>896</td>\n      <td>3</td>\n      <td>Hirvonen, Mrs. Alexander (Helga E Lindqvist)</td>\n      <td>female</td>\n      <td>22.0</td>\n      <td>1</td>\n      <td>1</td>\n      <td>3101298</td>\n      <td>12.2875</td>\n      <td>NaN</td>\n      <td>S</td>\n      <td>NaN</td>\n    </tr>\n    <tr>\n      <th>...</th>\n      <td>...</td>\n      <td>...</td>\n      <td>...</td>\n      <td>...</td>\n      <td>...</td>\n      <td>...</td>\n      <td>...</td>\n      <td>...</td>\n      <td>...</td>\n      <td>...</td>\n      <td>...</td>\n      <td>...</td>\n    </tr>\n    <tr>\n      <th>886</th>\n      <td>887</td>\n      <td>2</td>\n      <td>Montvila, Rev. Juozas</td>\n      <td>male</td>\n      <td>27.0</td>\n      <td>0</td>\n      <td>0</td>\n      <td>211536</td>\n      <td>13.0000</td>\n      <td>NaN</td>\n      <td>S</td>\n      <td>0.0</td>\n    </tr>\n    <tr>\n      <th>887</th>\n      <td>888</td>\n      <td>1</td>\n      <td>Graham, Miss. Margaret Edith</td>\n      <td>female</td>\n      <td>19.0</td>\n      <td>0</td>\n      <td>0</td>\n      <td>112053</td>\n      <td>30.0000</td>\n      <td>B42</td>\n      <td>S</td>\n      <td>1.0</td>\n    </tr>\n    <tr>\n      <th>888</th>\n      <td>889</td>\n      <td>3</td>\n      <td>Johnston, Miss. Catherine Helen \"Carrie\"</td>\n      <td>female</td>\n      <td>NaN</td>\n      <td>1</td>\n      <td>2</td>\n      <td>W./C. 6607</td>\n      <td>23.4500</td>\n      <td>NaN</td>\n      <td>S</td>\n      <td>0.0</td>\n    </tr>\n    <tr>\n      <th>889</th>\n      <td>890</td>\n      <td>1</td>\n      <td>Behr, Mr. Karl Howell</td>\n      <td>male</td>\n      <td>26.0</td>\n      <td>0</td>\n      <td>0</td>\n      <td>111369</td>\n      <td>30.0000</td>\n      <td>C148</td>\n      <td>C</td>\n      <td>1.0</td>\n    </tr>\n    <tr>\n      <th>890</th>\n      <td>891</td>\n      <td>3</td>\n      <td>Dooley, Mr. Patrick</td>\n      <td>male</td>\n      <td>32.0</td>\n      <td>0</td>\n      <td>0</td>\n      <td>370376</td>\n      <td>7.7500</td>\n      <td>NaN</td>\n      <td>Q</td>\n      <td>0.0</td>\n    </tr>\n  </tbody>\n</table>\n<p>1309 rows × 12 columns</p>\n</div>"
     },
     "execution_count": 13,
     "metadata": {},
     "output_type": "execute_result"
    }
   ],
   "source": [],
   "metadata": {
    "collapsed": false,
    "ExecuteTime": {
     "end_time": "2024-01-05T11:10:02.964101400Z",
     "start_time": "2024-01-05T11:10:02.674905100Z"
    }
   },
   "id": "332cea8797d8526e",
   "execution_count": 13
  },
  {
   "cell_type": "code",
   "outputs": [
    {
     "data": {
      "text/plain": "Pclass\n3    709\n1    323\n2    277\nName: count, dtype: int64"
     },
     "execution_count": 14,
     "metadata": {},
     "output_type": "execute_result"
    }
   ],
   "source": [
    "# Ejercicio 9: Determinar el número de pasajeros por clase de boleto.\n"
   ],
   "metadata": {
    "collapsed": false,
    "ExecuteTime": {
     "end_time": "2024-01-05T11:10:02.980649100Z",
     "start_time": "2024-01-05T11:10:02.695242Z"
    }
   },
   "id": "11d59374e3d4125f",
   "execution_count": 14
  },
  {
   "cell_type": "code",
   "outputs": [
    {
     "data": {
      "text/plain": "     PassengerId  Pclass                                          Name  \\\n0            892       3                              Kelly, Mr. James   \n1            893       3              Wilkes, Mrs. James (Ellen Needs)   \n2            894       2                     Myles, Mr. Thomas Francis   \n3            895       3                              Wirz, Mr. Albert   \n4            896       3  Hirvonen, Mrs. Alexander (Helga E Lindqvist)   \n..           ...     ...                                           ...   \n886          887       2                         Montvila, Rev. Juozas   \n887          888       1                  Graham, Miss. Margaret Edith   \n888          889       3      Johnston, Miss. Catherine Helen \"Carrie\"   \n889          890       1                         Behr, Mr. Karl Howell   \n890          891       3                           Dooley, Mr. Patrick   \n\n        Sex   Age  Siblings_Spouses  Parch      Ticket     Fare Cabin  \\\n0      male  34.5                 0      0      330911   7.8292   NaN   \n1    female  47.0                 1      0      363272   7.0000   NaN   \n2      male  62.0                 0      0      240276   9.6875   NaN   \n3      male  27.0                 0      0      315154   8.6625   NaN   \n4    female  22.0                 1      1     3101298  12.2875   NaN   \n..      ...   ...               ...    ...         ...      ...   ...   \n886    male  27.0                 0      0      211536  13.0000   NaN   \n887  female  19.0                 0      0      112053  30.0000   B42   \n888  female   NaN                 1      2  W./C. 6607  23.4500   NaN   \n889    male  26.0                 0      0      111369  30.0000  C148   \n890    male  32.0                 0      0      370376   7.7500   NaN   \n\n    Embarked  Survived Title  \n0          Q       NaN    Mr  \n1          S       NaN   Mrs  \n2          Q       NaN    Mr  \n3          S       NaN    Mr  \n4          S       NaN   Mrs  \n..       ...       ...   ...  \n886        S       0.0   Rev  \n887        S       1.0  Miss  \n888        S       0.0  Miss  \n889        C       1.0    Mr  \n890        Q       0.0    Mr  \n\n[1309 rows x 13 columns]",
      "text/html": "<div>\n<style scoped>\n    .dataframe tbody tr th:only-of-type {\n        vertical-align: middle;\n    }\n\n    .dataframe tbody tr th {\n        vertical-align: top;\n    }\n\n    .dataframe thead th {\n        text-align: right;\n    }\n</style>\n<table border=\"1\" class=\"dataframe\">\n  <thead>\n    <tr style=\"text-align: right;\">\n      <th></th>\n      <th>PassengerId</th>\n      <th>Pclass</th>\n      <th>Name</th>\n      <th>Sex</th>\n      <th>Age</th>\n      <th>Siblings_Spouses</th>\n      <th>Parch</th>\n      <th>Ticket</th>\n      <th>Fare</th>\n      <th>Cabin</th>\n      <th>Embarked</th>\n      <th>Survived</th>\n      <th>Title</th>\n    </tr>\n  </thead>\n  <tbody>\n    <tr>\n      <th>0</th>\n      <td>892</td>\n      <td>3</td>\n      <td>Kelly, Mr. James</td>\n      <td>male</td>\n      <td>34.5</td>\n      <td>0</td>\n      <td>0</td>\n      <td>330911</td>\n      <td>7.8292</td>\n      <td>NaN</td>\n      <td>Q</td>\n      <td>NaN</td>\n      <td>Mr</td>\n    </tr>\n    <tr>\n      <th>1</th>\n      <td>893</td>\n      <td>3</td>\n      <td>Wilkes, Mrs. James (Ellen Needs)</td>\n      <td>female</td>\n      <td>47.0</td>\n      <td>1</td>\n      <td>0</td>\n      <td>363272</td>\n      <td>7.0000</td>\n      <td>NaN</td>\n      <td>S</td>\n      <td>NaN</td>\n      <td>Mrs</td>\n    </tr>\n    <tr>\n      <th>2</th>\n      <td>894</td>\n      <td>2</td>\n      <td>Myles, Mr. Thomas Francis</td>\n      <td>male</td>\n      <td>62.0</td>\n      <td>0</td>\n      <td>0</td>\n      <td>240276</td>\n      <td>9.6875</td>\n      <td>NaN</td>\n      <td>Q</td>\n      <td>NaN</td>\n      <td>Mr</td>\n    </tr>\n    <tr>\n      <th>3</th>\n      <td>895</td>\n      <td>3</td>\n      <td>Wirz, Mr. Albert</td>\n      <td>male</td>\n      <td>27.0</td>\n      <td>0</td>\n      <td>0</td>\n      <td>315154</td>\n      <td>8.6625</td>\n      <td>NaN</td>\n      <td>S</td>\n      <td>NaN</td>\n      <td>Mr</td>\n    </tr>\n    <tr>\n      <th>4</th>\n      <td>896</td>\n      <td>3</td>\n      <td>Hirvonen, Mrs. Alexander (Helga E Lindqvist)</td>\n      <td>female</td>\n      <td>22.0</td>\n      <td>1</td>\n      <td>1</td>\n      <td>3101298</td>\n      <td>12.2875</td>\n      <td>NaN</td>\n      <td>S</td>\n      <td>NaN</td>\n      <td>Mrs</td>\n    </tr>\n    <tr>\n      <th>...</th>\n      <td>...</td>\n      <td>...</td>\n      <td>...</td>\n      <td>...</td>\n      <td>...</td>\n      <td>...</td>\n      <td>...</td>\n      <td>...</td>\n      <td>...</td>\n      <td>...</td>\n      <td>...</td>\n      <td>...</td>\n      <td>...</td>\n    </tr>\n    <tr>\n      <th>886</th>\n      <td>887</td>\n      <td>2</td>\n      <td>Montvila, Rev. Juozas</td>\n      <td>male</td>\n      <td>27.0</td>\n      <td>0</td>\n      <td>0</td>\n      <td>211536</td>\n      <td>13.0000</td>\n      <td>NaN</td>\n      <td>S</td>\n      <td>0.0</td>\n      <td>Rev</td>\n    </tr>\n    <tr>\n      <th>887</th>\n      <td>888</td>\n      <td>1</td>\n      <td>Graham, Miss. Margaret Edith</td>\n      <td>female</td>\n      <td>19.0</td>\n      <td>0</td>\n      <td>0</td>\n      <td>112053</td>\n      <td>30.0000</td>\n      <td>B42</td>\n      <td>S</td>\n      <td>1.0</td>\n      <td>Miss</td>\n    </tr>\n    <tr>\n      <th>888</th>\n      <td>889</td>\n      <td>3</td>\n      <td>Johnston, Miss. Catherine Helen \"Carrie\"</td>\n      <td>female</td>\n      <td>NaN</td>\n      <td>1</td>\n      <td>2</td>\n      <td>W./C. 6607</td>\n      <td>23.4500</td>\n      <td>NaN</td>\n      <td>S</td>\n      <td>0.0</td>\n      <td>Miss</td>\n    </tr>\n    <tr>\n      <th>889</th>\n      <td>890</td>\n      <td>1</td>\n      <td>Behr, Mr. Karl Howell</td>\n      <td>male</td>\n      <td>26.0</td>\n      <td>0</td>\n      <td>0</td>\n      <td>111369</td>\n      <td>30.0000</td>\n      <td>C148</td>\n      <td>C</td>\n      <td>1.0</td>\n      <td>Mr</td>\n    </tr>\n    <tr>\n      <th>890</th>\n      <td>891</td>\n      <td>3</td>\n      <td>Dooley, Mr. Patrick</td>\n      <td>male</td>\n      <td>32.0</td>\n      <td>0</td>\n      <td>0</td>\n      <td>370376</td>\n      <td>7.7500</td>\n      <td>NaN</td>\n      <td>Q</td>\n      <td>0.0</td>\n      <td>Mr</td>\n    </tr>\n  </tbody>\n</table>\n<p>1309 rows × 13 columns</p>\n</div>"
     },
     "execution_count": 15,
     "metadata": {},
     "output_type": "execute_result"
    }
   ],
   "source": [
    "# Ejercicio 10: Extraer el título (Mr, Mrs, Miss, etc.) de cada nombre y crear una nueva columna."
   ],
   "metadata": {
    "collapsed": false,
    "ExecuteTime": {
     "end_time": "2024-01-05T11:10:02.988170Z",
     "start_time": "2024-01-05T11:10:02.705967400Z"
    }
   },
   "id": "1c3f7faf863b9d3f",
   "execution_count": 15
  },
  {
   "cell_type": "code",
   "outputs": [],
   "source": [
    "# Ejercicio 11: Crear una columna indicando si el pasajero viajaba solo o con familia."
   ],
   "metadata": {
    "collapsed": false,
    "ExecuteTime": {
     "end_time": "2024-01-05T11:10:03.004216500Z",
     "start_time": "2024-01-05T11:10:02.728507600Z"
    }
   },
   "id": "4ed882d2b987222c",
   "execution_count": 16
  },
  {
   "cell_type": "code",
   "outputs": [
    {
     "name": "stdout",
     "output_type": "stream",
     "text": [
      "Unique titles count: 18\n",
      "Title\n",
      "Mr          757\n",
      "Miss        260\n",
      "Mrs         197\n",
      "Master       61\n",
      "Rev           8\n",
      "Dr            8\n",
      "Col           4\n",
      "Ms            2\n",
      "Major         2\n",
      "Mlle          2\n",
      "Sir           1\n",
      "Countess      1\n",
      "Capt          1\n",
      "Don           1\n",
      "Lady          1\n",
      "Mme           1\n",
      "Dona          1\n",
      "Jonkheer      1\n",
      "Name: count, dtype: int64\n"
     ]
    }
   ],
   "source": [
    "# Ejercicio 12: Contar cuántos pasajeros únicos hay de cada título."
   ],
   "metadata": {
    "collapsed": false,
    "ExecuteTime": {
     "end_time": "2024-01-05T11:10:03.007219400Z",
     "start_time": "2024-01-05T11:10:02.736816300Z"
    }
   },
   "id": "c86d15c8b6a937fd",
   "execution_count": 17
  },
  {
   "cell_type": "code",
   "outputs": [],
   "source": [
    "# Ejercicio 13: Calcular la tarifa media pagada por clase de pasajero."
   ],
   "metadata": {
    "collapsed": false,
    "ExecuteTime": {
     "end_time": "2024-01-05T11:10:03.025796800Z",
     "start_time": "2024-01-05T11:10:02.749064Z"
    }
   },
   "id": "40ce2b6668621616",
   "execution_count": 18
  },
  {
   "cell_type": "code",
   "outputs": [],
   "source": [
    "# Ejercicio 14: Encontrar la edad más joven y más vieja en cada clase."
   ],
   "metadata": {
    "collapsed": false,
    "ExecuteTime": {
     "end_time": "2024-01-05T11:10:03.027797100Z",
     "start_time": "2024-01-05T11:10:02.756072200Z"
    }
   },
   "id": "aa5ee30f4b0fa578",
   "execution_count": 19
  },
  {
   "cell_type": "code",
   "outputs": [],
   "source": [
    "# Ejercicio 15: Calcular el número total de familiares a bordo por pasajero."
   ],
   "metadata": {
    "collapsed": false,
    "ExecuteTime": {
     "end_time": "2024-01-05T11:10:03.214995300Z",
     "start_time": "2024-01-05T11:10:02.765106500Z"
    }
   },
   "id": "1e8088cc7fc9ac56",
   "execution_count": 20
  },
  {
   "cell_type": "code",
   "outputs": [],
   "source": [
    "# Ejercicio 16: Agrupar datos por género y encontrar la edad media, mínima y máxima."
   ],
   "metadata": {
    "collapsed": false,
    "ExecuteTime": {
     "end_time": "2024-01-05T11:10:03.217993400Z",
     "start_time": "2024-01-05T11:10:02.771602600Z"
    }
   },
   "id": "8b9a872676f8be9e",
   "execution_count": 21
  },
  {
   "cell_type": "code",
   "outputs": [],
   "source": [
    "# Ejercicio 17: Identificar la fila con la tarifa más alta pagada."
   ],
   "metadata": {
    "collapsed": false,
    "ExecuteTime": {
     "end_time": "2024-01-05T11:10:03.250308400Z",
     "start_time": "2024-01-05T11:10:02.782093700Z"
    }
   },
   "id": "2e39ec414c9189fd",
   "execution_count": 22
  },
  {
   "cell_type": "code",
   "outputs": [],
   "source": [
    "# Ejercicio 18: Contar cuántos pasajeros embarcaron en cada puerto."
   ],
   "metadata": {
    "collapsed": false,
    "ExecuteTime": {
     "end_time": "2024-01-05T11:10:03.252818Z",
     "start_time": "2024-01-05T11:10:02.789877900Z"
    }
   },
   "id": "60b75ceda6401445",
   "execution_count": 23
  },
  {
   "cell_type": "code",
   "outputs": [],
   "source": [
    "# Ejercicio 19: Determinar si hay duplicados en el dataset y tratarlos.\n",
    "# Para eliminar duplicados (si existieran), usaríamos: titanic_data = titanic_data.drop_duplicates()"
   ],
   "metadata": {
    "collapsed": false,
    "ExecuteTime": {
     "end_time": "2024-01-05T11:10:03.255827900Z",
     "start_time": "2024-01-05T11:10:02.797280Z"
    }
   },
   "id": "864dd08e60ebbd91",
   "execution_count": 24
  },
  {
   "cell_type": "code",
   "outputs": [],
   "source": [
    "# Ejercicio 20: Convertir la columna 'Sexo' a una variable numérica (0 para masculino, 1 para femenino)."
   ],
   "metadata": {
    "collapsed": false,
    "ExecuteTime": {
     "end_time": "2024-01-05T11:10:03.273053900Z",
     "start_time": "2024-01-05T11:10:02.806360300Z"
    }
   },
   "id": "f71c10bd9ef1c4f",
   "execution_count": 25
  },
  {
   "cell_type": "code",
   "outputs": [],
   "source": [
    "# Ejercicio 21: Eliminar columnas que no aportan información relevante."
   ],
   "metadata": {
    "collapsed": false,
    "ExecuteTime": {
     "end_time": "2024-01-05T11:10:03.276164200Z",
     "start_time": "2024-01-05T11:10:02.813924400Z"
    }
   },
   "id": "77b45a35956c3b07",
   "execution_count": 26
  },
  {
   "cell_type": "code",
   "outputs": [],
   "source": [
    "# Ejercicio 22: Rellenar valores faltantes en 'Edad' con la mediana de la misma."
   ],
   "metadata": {
    "collapsed": false,
    "ExecuteTime": {
     "end_time": "2024-01-05T11:10:03.278164700Z",
     "start_time": "2024-01-05T11:10:02.822076200Z"
    }
   },
   "id": "8546ab188dd90afe",
   "execution_count": 27
  },
  {
   "cell_type": "code",
   "outputs": [],
   "source": [
    "# Ejercicio 23: Rellenar valores faltantes en 'Puerto de Embarque' con la moda."
   ],
   "metadata": {
    "collapsed": false,
    "ExecuteTime": {
     "end_time": "2024-01-05T11:10:03.358121500Z",
     "start_time": "2024-01-05T11:10:02.944938600Z"
    }
   },
   "id": "f3a2d82129842060",
   "execution_count": 28
  },
  {
   "cell_type": "code",
   "outputs": [],
   "source": [
    "# Ejercicio 24: Eliminar filas donde la 'Tarifa' esté faltando."
   ],
   "metadata": {
    "collapsed": false,
    "ExecuteTime": {
     "end_time": "2024-01-05T11:10:03.718080200Z",
     "start_time": "2024-01-05T11:10:03.362123400Z"
    }
   },
   "id": "4e4bf1ff449e3f16",
   "execution_count": 29
  },
  {
   "cell_type": "code",
   "outputs": [],
   "source": [
    "# Ejercicio 25: Normalizar las columnas numéricas (Edad y Tarifa)."
   ],
   "metadata": {
    "collapsed": false,
    "ExecuteTime": {
     "end_time": "2024-01-05T11:10:03.925249700Z",
     "start_time": "2024-01-05T11:10:03.706033200Z"
    }
   },
   "id": "e4a5942c331e46b9",
   "execution_count": 30
  },
  {
   "cell_type": "code",
   "outputs": [],
   "source": [
    "import numpy as np\n",
    "\n",
    "# Ejercicio 26: Categorizar la edad en grupos ('Niño', 'Adulto', 'Senior')."
   ],
   "metadata": {
    "collapsed": false,
    "ExecuteTime": {
     "end_time": "2024-01-05T11:10:03.974305400Z",
     "start_time": "2024-01-05T11:10:03.907144700Z"
    }
   },
   "id": "febfc4b2be1b7ebe",
   "execution_count": 31
  },
  {
   "cell_type": "code",
   "outputs": [],
   "source": [
    "# Ejercicio 27: Crear una columna de 'Título' limpio agrupando títulos menos comunes en 'Otros'."
   ],
   "metadata": {
    "collapsed": false,
    "ExecuteTime": {
     "end_time": "2024-01-05T11:10:04.019739900Z",
     "start_time": "2024-01-05T11:10:03.979305600Z"
    }
   },
   "id": "f1858cb9bc7033de",
   "execution_count": 32
  },
  {
   "cell_type": "code",
   "outputs": [],
   "source": [
    "# Ejercicio 28: Codificar la columna 'Puerto de Embarque' con variables dummy."
   ],
   "metadata": {
    "collapsed": false,
    "ExecuteTime": {
     "end_time": "2024-01-05T11:10:04.058127700Z",
     "start_time": "2024-01-05T11:10:04.009667900Z"
    }
   },
   "id": "8f70198cdea5da4f",
   "execution_count": 33
  },
  {
   "cell_type": "code",
   "outputs": [],
   "source": [
    "# Ejercicio 29: Separar el dataset en dos: uno con datos de supervivientes y otro con los que no sobrevivieron."
   ],
   "metadata": {
    "collapsed": false,
    "ExecuteTime": {
     "end_time": "2024-01-05T11:10:04.110505700Z",
     "start_time": "2024-01-05T11:10:04.061128600Z"
    }
   },
   "id": "66a7badcde42ef7d",
   "execution_count": 34
  },
  {
   "cell_type": "code",
   "outputs": [],
   "source": [
    "# Ejercicio 30: Crear un índice único para cada pasajero."
   ],
   "metadata": {
    "collapsed": false,
    "ExecuteTime": {
     "end_time": "2024-01-05T11:10:04.172240100Z",
     "start_time": "2024-01-05T11:10:04.091606200Z"
    }
   },
   "id": "bf44eb9880728437",
   "execution_count": 35
  },
  {
   "cell_type": "code",
   "outputs": [],
   "source": [
    "# Ejercicio 31: Combinar columnas de 'Siblings_Spouses' y 'Parch' en una 'Tamaño de Familia'."
   ],
   "metadata": {
    "collapsed": false,
    "ExecuteTime": {
     "end_time": "2024-01-05T11:10:04.237946Z",
     "start_time": "2024-01-05T11:10:04.144377400Z"
    }
   },
   "id": "f6674a52739cb175",
   "execution_count": 36
  },
  {
   "cell_type": "code",
   "outputs": [],
   "source": [
    "# Ejercicio 32: Identificar y tratar outliers en la 'Edad' y 'Tarifa'.\n",
    "# Definir una función para detectar outliers basados en el rango intercuartil.\n",
    "def detect_outliers(df, col):\n",
    "    Q1 = df[col].quantile(0.25)\n",
    "    Q3 = df[col].quantile(0.75)\n",
    "    IQR = Q3 - Q1\n",
    "    lower_bound = Q1 - 1.5 * IQR\n",
    "    upper_bound = Q3 + 1.5 * IQR\n",
    "    return df[(df[col] < lower_bound) | (df[col] > upper_bound)]\n",
    "\n",
    "# Aplicar la función y obtener índices de outliers."
   ],
   "metadata": {
    "collapsed": false,
    "ExecuteTime": {
     "end_time": "2024-01-05T11:10:04.325839900Z",
     "start_time": "2024-01-05T11:10:04.244041500Z"
    }
   },
   "id": "c2288b93676ed552",
   "execution_count": 37
  },
  {
   "cell_type": "code",
   "outputs": [],
   "source": [
    "# Ejercicio 33: Dividir el nombre completo en 'Nombre', 'Apellido', y 'Título'."
   ],
   "metadata": {
    "collapsed": false,
    "ExecuteTime": {
     "end_time": "2024-01-05T11:10:04.456716200Z",
     "start_time": "2024-01-05T11:10:04.304279900Z"
    }
   },
   "id": "1e3de2ae2323d817",
   "execution_count": 38
  },
  {
   "cell_type": "code",
   "outputs": [],
   "source": [
    "# Ejercicio 34: Convertir todas las cadenas en la columna 'Título' a mayúsculas."
   ],
   "metadata": {
    "collapsed": false,
    "ExecuteTime": {
     "end_time": "2024-01-05T11:10:04.483876300Z",
     "start_time": "2024-01-05T11:10:04.437425800Z"
    }
   },
   "id": "ea29c62b455722da",
   "execution_count": 39
  },
  {
   "cell_type": "code",
   "outputs": [],
   "source": [
    "# Ejercicio 35: Agrupar por 'Título' y calcular la media de 'Edad' y 'Tarifa'."
   ],
   "metadata": {
    "collapsed": false,
    "ExecuteTime": {
     "end_time": "2024-01-05T11:10:04.556249800Z",
     "start_time": "2024-01-05T11:10:04.485876500Z"
    }
   },
   "id": "377c8e823095c07d",
   "execution_count": 40
  },
  {
   "cell_type": "code",
   "outputs": [],
   "source": [
    "# Ejercicio 36: Ordenar el dataset por 'Edad' de manera ascendente."
   ],
   "metadata": {
    "collapsed": false,
    "ExecuteTime": {
     "end_time": "2024-01-05T11:10:04.590239800Z",
     "start_time": "2024-01-05T11:10:04.546219100Z"
    }
   },
   "id": "2ec497984836d0c0",
   "execution_count": 41
  },
  {
   "cell_type": "code",
   "outputs": [],
   "source": [
    "# Ejercicio 37: Resetear el índice del DataFrame después de cualquier operación de ordenamiento."
   ],
   "metadata": {
    "collapsed": false,
    "ExecuteTime": {
     "end_time": "2024-01-05T11:10:04.617391900Z",
     "start_time": "2024-01-05T11:10:04.578437700Z"
    }
   },
   "id": "51d7730bbe3ce66d",
   "execution_count": 42
  },
  {
   "cell_type": "code",
   "outputs": [],
   "source": [
    "# Ejercicio 38: Identificar correlaciones entre 'Edad', 'Tarifa', y 'Tamaño de Familia'."
   ],
   "metadata": {
    "collapsed": false,
    "ExecuteTime": {
     "end_time": "2024-01-05T11:10:04.717955400Z",
     "start_time": "2024-01-05T11:10:04.621388200Z"
    }
   },
   "id": "55f8ad401b59bfe7",
   "execution_count": 43
  },
  {
   "cell_type": "code",
   "outputs": [],
   "source": [
    "# Ejercicio 39: Eliminar cualquier fila con valores negativos en 'Tarifa'."
   ],
   "metadata": {
    "collapsed": false,
    "ExecuteTime": {
     "end_time": "2024-01-05T11:10:04.745115900Z",
     "start_time": "2024-01-05T11:10:04.692035400Z"
    }
   },
   "id": "4d25c66b9647591a",
   "execution_count": 44
  },
  {
   "cell_type": "code",
   "outputs": [],
   "source": [
    "# Ejercicio 40: Guardar el dataset limpio en un nuevo archivo CSV."
   ],
   "metadata": {
    "collapsed": false,
    "ExecuteTime": {
     "end_time": "2024-01-05T11:10:04.810861900Z",
     "start_time": "2024-01-05T11:10:04.748116300Z"
    }
   },
   "id": "5b8a9755af0a1b5a",
   "execution_count": 45
  },
  {
   "cell_type": "code",
   "outputs": [],
   "source": [
    "# Ejercicio 41: Aplicar una función que convierta la edad en días (aproximada)."
   ],
   "metadata": {
    "collapsed": false,
    "ExecuteTime": {
     "end_time": "2024-01-05T11:10:04.863102600Z",
     "start_time": "2024-01-05T11:10:04.811863500Z"
    }
   },
   "id": "7b0b6705d63f1520",
   "execution_count": 46
  },
  {
   "cell_type": "code",
   "outputs": [],
   "source": [
    "# Ejercicio 42: Calcular la tarifa media pagada por los pasajeros de cada puerto de embarque."
   ],
   "metadata": {
    "collapsed": false,
    "ExecuteTime": {
     "end_time": "2024-01-05T11:10:04.908354Z",
     "start_time": "2024-01-05T11:10:04.848078600Z"
    }
   },
   "id": "3d6dfd616b5f15bd",
   "execution_count": 47
  },
  {
   "cell_type": "code",
   "outputs": [],
   "source": [
    "# Ejercicio 43: Crear una columna 'Edad * Clase' como interacción de edad y clase."
   ],
   "metadata": {
    "collapsed": false,
    "ExecuteTime": {
     "end_time": "2024-01-05T11:10:04.942062700Z",
     "start_time": "2024-01-05T11:10:04.894705100Z"
    }
   },
   "id": "7477dc8aa4245a22",
   "execution_count": 48
  },
  {
   "cell_type": "code",
   "outputs": [],
   "source": [
    "# Ejercicio 44: Establecer rangos de tarifas (bajo, medio, alto) basados en cuartiles."
   ],
   "metadata": {
    "collapsed": false,
    "ExecuteTime": {
     "end_time": "2024-01-05T11:10:05.005026600Z",
     "start_time": "2024-01-05T11:10:04.944103Z"
    }
   },
   "id": "8cee900c36ac5716",
   "execution_count": 49
  },
  {
   "cell_type": "code",
   "outputs": [
    {
     "name": "stderr",
     "output_type": "stream",
     "text": [
      "C:\\Users\\adema\\AppData\\Local\\Temp\\ipykernel_38288\\1281865946.py:2: FutureWarning: The default of observed=False is deprecated and will be changed to True in a future version of pandas. Pass observed=False to retain current behavior or observed=True to adopt the future default and silence this warning.\n",
      "  survival_by_fare_range = titanic_data.groupby('FareRange')['Survived'].sum()\n"
     ]
    }
   ],
   "source": [
    "# Ejercicio 45: Contar cuántos pasajeros sobrevivieron por cada rango de tarifa."
   ],
   "metadata": {
    "collapsed": false,
    "ExecuteTime": {
     "end_time": "2024-01-05T11:10:05.029966400Z",
     "start_time": "2024-01-05T11:10:04.990037800Z"
    }
   },
   "id": "c9f59ec9fddc4b28",
   "execution_count": 50
  },
  {
   "cell_type": "code",
   "outputs": [],
   "source": [
    "# Ejercicio 46: Agrupar por 'Sexo' y 'Clase' y calcular la supervivencia promedio."
   ],
   "metadata": {
    "collapsed": false,
    "ExecuteTime": {
     "end_time": "2024-01-05T11:10:05.150244400Z",
     "start_time": "2024-01-05T11:10:05.031966700Z"
    }
   },
   "id": "d6d8d2496b01576b",
   "execution_count": 51
  },
  {
   "cell_type": "code",
   "outputs": [],
   "source": [
    "# Ejercicio 47: Identificar pasajeros con el mismo apellido y ver si sobrevivieron."
   ],
   "metadata": {
    "collapsed": false,
    "ExecuteTime": {
     "end_time": "2024-01-05T11:10:05.191922Z",
     "start_time": "2024-01-05T11:10:05.119301100Z"
    }
   },
   "id": "f4ff82273a503b2e",
   "execution_count": 52
  },
  {
   "cell_type": "code",
   "outputs": [],
   "source": [
    "# Ejercicio 48: Crear una puntuación de supervivencia basada en características (fórmula propia).\n",
    "# Nota: Esto es un ejemplo y puede variar según el criterio del analista."
   ],
   "metadata": {
    "collapsed": false,
    "ExecuteTime": {
     "end_time": "2024-01-05T11:10:05.270294500Z",
     "start_time": "2024-01-05T11:10:05.193431200Z"
    }
   },
   "id": "f957a84251c0f687",
   "execution_count": 53
  },
  {
   "cell_type": "code",
   "outputs": [],
   "source": [
    "# Ejercicio 49: Establecer un ranking de tarifas pagadas y encontrar los top 10 pasajeros que más pagaron."
   ],
   "metadata": {
    "collapsed": false,
    "ExecuteTime": {
     "end_time": "2024-01-05T11:10:05.331215200Z",
     "start_time": "2024-01-05T11:10:05.250807900Z"
    }
   },
   "id": "3979b23d571e20d7",
   "execution_count": 54
  },
  {
   "cell_type": "code",
   "outputs": [],
   "source": [
    "# Ejercicio 50: Agrupar por 'Tamaño de Familia' y analizar la tasa de supervivencia."
   ],
   "metadata": {
    "collapsed": false,
    "ExecuteTime": {
     "end_time": "2024-01-05T11:10:05.362916800Z",
     "start_time": "2024-01-05T11:10:05.333725600Z"
    }
   },
   "id": "15e0a89ff0f6a5f1",
   "execution_count": 55
  },
  {
   "cell_type": "code",
   "outputs": [],
   "source": [
    "# Ejercicio 51: Calcular la varianza y desviación estándar de la 'Edad' por 'Clase'."
   ],
   "metadata": {
    "collapsed": false,
    "ExecuteTime": {
     "end_time": "2024-01-05T11:10:05.412921100Z",
     "start_time": "2024-01-05T11:10:05.345929200Z"
    }
   },
   "id": "c434edda7adbe50f",
   "execution_count": 56
  },
  {
   "cell_type": "code",
   "outputs": [],
   "source": [
    "# Ejercicio 52: Mapear la 'Edad' a categorías ('Niño', 'Joven', 'Adulto', 'Senior')."
   ],
   "metadata": {
    "collapsed": false,
    "ExecuteTime": {
     "end_time": "2024-01-05T11:10:05.448045500Z",
     "start_time": "2024-01-05T11:10:05.375118300Z"
    }
   },
   "id": "baab016fea093b3c",
   "execution_count": 57
  },
  {
   "cell_type": "code",
   "outputs": [],
   "source": [
    "# Ejercicio 53: Crear una función que etiquete a los pasajeros como 'Niño', 'Mujer Adulta' o 'Hombre Adulto'.\n"
   ],
   "metadata": {
    "collapsed": false,
    "ExecuteTime": {
     "end_time": "2024-01-05T11:10:05.521842900Z",
     "start_time": "2024-01-05T11:10:05.452047200Z"
    }
   },
   "id": "6493b4065941d39",
   "execution_count": 58
  },
  {
   "cell_type": "code",
   "outputs": [],
   "source": [
    "# Ejercicio 54: Contar cuántos títulos únicos hay y cuál es el más común."
   ],
   "metadata": {
    "collapsed": false,
    "ExecuteTime": {
     "end_time": "2024-01-05T11:10:05.561505300Z",
     "start_time": "2024-01-05T11:10:05.505811Z"
    }
   },
   "id": "592b0c2737640eb4",
   "execution_count": 59
  },
  {
   "cell_type": "code",
   "outputs": [],
   "source": [
    "# Ejercicio 55: Combinar 'SibSp' y 'Parch' en una columna 'Tamaño de Familia' y analizar su impacto en la supervivencia."
   ],
   "metadata": {
    "collapsed": false,
    "ExecuteTime": {
     "end_time": "2024-01-05T11:10:05.637413700Z",
     "start_time": "2024-01-05T11:10:05.535067700Z"
    }
   },
   "id": "a89bada9c50347ad",
   "execution_count": 60
  },
  {
   "cell_type": "code",
   "outputs": [
    {
     "name": "stderr",
     "output_type": "stream",
     "text": [
      "C:\\Users\\adema\\AppData\\Local\\Temp\\ipykernel_38288\\2638681024.py:2: FutureWarning: The default of observed=False is deprecated and will be changed to True in a future version of pandas. Pass observed=False to retain current behavior or observed=True to adopt the future default and silence this warning.\n",
      "  survival_by_age_fare = titanic_data.groupby(['AgeCategory', 'FareRange'])['Survived'].mean()\n"
     ]
    }
   ],
   "source": [
    "# Ejercicio 56: Comparar la tasa de supervivencia entre diferentes rangos de edad y tarifas."
   ],
   "metadata": {
    "collapsed": false,
    "ExecuteTime": {
     "end_time": "2024-01-05T11:10:05.708478400Z",
     "start_time": "2024-01-05T11:10:05.639412200Z"
    }
   },
   "id": "c4e0e4e04bcd72df",
   "execution_count": 61
  },
  {
   "cell_type": "code",
   "outputs": [],
   "source": [
    "# Ejercicio 57: Implementar una codificación de frecuencia para la columna 'Título'."
   ],
   "metadata": {
    "collapsed": false,
    "ExecuteTime": {
     "end_time": "2024-01-05T11:10:05.772207800Z",
     "start_time": "2024-01-05T11:10:05.683051600Z"
    }
   },
   "id": "1d37e32336ee7e3a",
   "execution_count": 62
  },
  {
   "cell_type": "code",
   "outputs": [],
   "source": [
    "# Ejercicio 58: Calcular y analizar la tasa de supervivencia por cada combinación de 'Puerto de Embarque' y 'Sexo'."
   ],
   "metadata": {
    "collapsed": false,
    "ExecuteTime": {
     "end_time": "2024-01-05T11:10:05.861897400Z",
     "start_time": "2024-01-05T11:10:05.775389200Z"
    }
   },
   "id": "8f0c10b6e27221e4",
   "execution_count": 63
  }
 ],
 "metadata": {
  "kernelspec": {
   "display_name": "Python 3",
   "language": "python",
   "name": "python3"
  },
  "language_info": {
   "codemirror_mode": {
    "name": "ipython",
    "version": 2
   },
   "file_extension": ".py",
   "mimetype": "text/x-python",
   "name": "python",
   "nbconvert_exporter": "python",
   "pygments_lexer": "ipython2",
   "version": "2.7.6"
  }
 },
 "nbformat": 4,
 "nbformat_minor": 5
}
