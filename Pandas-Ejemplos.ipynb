{
  "nbformat": 4,
  "nbformat_minor": 0,
  "metadata": {
    "colab": {
      "provenance": []
    },
    "kernelspec": {
      "name": "python3",
      "display_name": "Python 3"
    },
    "language_info": {
      "name": "python"
    }
  },
  "cells": [
    {
      "cell_type": "markdown",
      "source": [
        "# Importar Pandas y verificar versión"
      ],
      "metadata": {
        "id": "lHj3fzGj3Kpe"
      }
    },
    {
      "cell_type": "code",
      "execution_count": 1,
      "metadata": {
        "id": "UiCnAolB3BGC"
      },
      "outputs": [],
      "source": [
        "import pandas as pd"
      ]
    },
    {
      "cell_type": "code",
      "source": [
        "print(pd.__version__)"
      ],
      "metadata": {
        "colab": {
          "base_uri": "https://localhost:8080/"
        },
        "id": "1ktx5TFa3Ddd",
        "outputId": "9f9c958f-4588-4deb-a4e4-bedd898b6c3c"
      },
      "execution_count": 2,
      "outputs": [
        {
          "output_type": "stream",
          "name": "stdout",
          "text": [
            "1.5.3\n"
          ]
        }
      ]
    },
    {
      "cell_type": "markdown",
      "source": [
        "# Series\n",
        "\n",
        "Una Serie es un arreglo unidimensional capaz de almacenar cualquier tipo de datos. Es similar a una columna en una hoja de cálculo o una lista en Python, pero con capacidades adicionales para análisis de datos\n",
        "\n"
      ],
      "metadata": {
        "id": "Dfgrf3gS3txw"
      }
    },
    {
      "cell_type": "code",
      "source": [
        "data = [1, 2, 3, 4]\n",
        "series = pd.Series(data)\n",
        "print(series)"
      ],
      "metadata": {
        "colab": {
          "base_uri": "https://localhost:8080/"
        },
        "id": "oY6WLD1A38GU",
        "outputId": "fcc1c28d-5a99-4907-e540-5d7060d63948"
      },
      "execution_count": 3,
      "outputs": [
        {
          "output_type": "stream",
          "name": "stdout",
          "text": [
            "0    1\n",
            "1    2\n",
            "2    3\n",
            "3    4\n",
            "dtype: int64\n"
          ]
        }
      ]
    },
    {
      "cell_type": "code",
      "source": [
        "indices = ['a', 'b', 'c', 'd']\n",
        "series = pd.Series(data, index=indices)\n",
        "print(series)\n"
      ],
      "metadata": {
        "colab": {
          "base_uri": "https://localhost:8080/"
        },
        "id": "x6OeWbII4qnP",
        "outputId": "049a30c2-2d07-4a63-e6f0-f68220dcf0fd"
      },
      "execution_count": 4,
      "outputs": [
        {
          "output_type": "stream",
          "name": "stdout",
          "text": [
            "a    1\n",
            "b    2\n",
            "c    3\n",
            "d    4\n",
            "dtype: int64\n"
          ]
        }
      ]
    },
    {
      "cell_type": "markdown",
      "source": [
        "# Dataframes\n",
        "\n",
        "Un DataFrame es una estructura bidimensional, tamaño mutable, y datos potencialmente heterogéneos. Es similar a una tabla en una base de datos, una hoja de cálculo o un diccionario de Series"
      ],
      "metadata": {
        "id": "m1KjuWyW48AI"
      }
    },
    {
      "cell_type": "code",
      "source": [
        "data = {'Columna 1': [1, 2, 3], 'Columna 2': ['a', 'b', 'c']}\n",
        "df = pd.DataFrame(data)\n",
        "print(df)\n"
      ],
      "metadata": {
        "colab": {
          "base_uri": "https://localhost:8080/"
        },
        "id": "8ZqM4SYc4-B7",
        "outputId": "e0f154fc-5426-4318-b101-821399f97a21"
      },
      "execution_count": 5,
      "outputs": [
        {
          "output_type": "stream",
          "name": "stdout",
          "text": [
            "   Columna 1 Columna 2\n",
            "0          1         a\n",
            "1          2         b\n",
            "2          3         c\n"
          ]
        }
      ]
    }
  ]
}